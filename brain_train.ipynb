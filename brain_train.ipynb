{
 "cells": [
  {
   "cell_type": "markdown",
   "metadata": {},
   "source": [
    "# Darkchess Brain AI Playground"
   ]
  },
  {
   "cell_type": "code",
   "execution_count": null,
   "metadata": {},
   "outputs": [],
   "source": [
    "from brain.arena import Battle\n",
    "from brain.agent import (\n",
    "    Human,\n",
    "    Random,\n",
    "    MinMax,\n",
    "    AlphaBeta,\n",
    "    QL,\n",
    "    QL_MCTS,\n",
    "    DRL,\n",
    "    DRL_MCTS\n",
    ")\n",
    "\n",
    "# Choose two agents from the list above\n",
    "battle = Battle(\n",
    "    player1=Random(),\n",
    "    player2=AlphaBeta(6),\n",
    "    verbose=True\n",
    ")\n",
    "\n",
    "# Start the battle\n",
    "battle.play_games()"
   ]
  },
  {
   "cell_type": "markdown",
   "metadata": {},
   "source": [
    "# Train Learning Agent"
   ]
  },
  {
   "cell_type": "code",
   "execution_count": null,
   "metadata": {},
   "outputs": [],
   "source": [
    "from brain.agent.learning import (\n",
    "    QL_Learning,\n",
    "    QL_MCTS_Learning,\n",
    "    DRL_Learning,\n",
    "    DRL_MCTS_Learning\n",
    ")\n",
    "\n",
    "ql_learning = QL_Learning()\n",
    "ql_mcts_learning = QL_MCTS_Learning()\n",
    "drl_learning = DRL_Learning()\n",
    "drl_mcts_learning = DRL_MCTS_Learning()\n",
    "\n",
    "# Choose agents for training\n",
    "# ql_learning.train()\n",
    "# ql_mcts_learning.train()\n",
    "# drl_learning.train()\n",
    "drl_mcts_learning.train()"
   ]
  }
 ],
 "metadata": {
  "kernelspec": {
   "display_name": "default",
   "language": "python",
   "name": "python3"
  },
  "language_info": {
   "codemirror_mode": {
    "name": "ipython",
    "version": 3
   },
   "file_extension": ".py",
   "mimetype": "text/x-python",
   "name": "python",
   "nbconvert_exporter": "python",
   "pygments_lexer": "ipython3",
   "version": "3.8.20"
  }
 },
 "nbformat": 4,
 "nbformat_minor": 2
}
