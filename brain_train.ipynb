{
 "cells": [
  {
   "cell_type": "markdown",
   "metadata": {},
   "source": [
    "# Darkchess Brain AI Playground\n",
    "> Choose two agents from the list below  \n",
    "> e.g. Human(you) v.s. Random"
   ]
  },
  {
   "cell_type": "code",
   "execution_count": null,
   "metadata": {},
   "outputs": [],
   "source": [
    "from brain.arena import Battle\n",
    "from brain.agent import (\n",
    "    Human,\n",
    "    Random,\n",
    "    MinMax,\n",
    "    AlphaBeta\n",
    ")\n",
    "\n",
    "battle = Battle(\n",
    "    player1=Random(),\n",
    "    player2=Random(),\n",
    "    verbose=True\n",
    ")\n",
    "\n",
    "# Start the battle\n",
    "battle.play_games()"
   ]
  },
  {
   "cell_type": "code",
   "execution_count": null,
   "metadata": {},
   "outputs": [],
   "source": [
    "battle.game_record"
   ]
  },
  {
   "cell_type": "markdown",
   "metadata": {},
   "source": [
    "# Login to HuggingFace (just login once)"
   ]
  },
  {
   "cell_type": "code",
   "execution_count": null,
   "metadata": {},
   "outputs": [],
   "source": [
    "from huggingface_hub import interpreter_login\n",
    "interpreter_login()"
   ]
  },
  {
   "cell_type": "markdown",
   "metadata": {},
   "source": [
    "# Learning Agent List for training"
   ]
  },
  {
   "cell_type": "code",
   "execution_count": null,
   "metadata": {},
   "outputs": [],
   "source": [
    "from brain.agent import (\n",
    "    QL,\n",
    "    QL_MCTS,\n",
    "    DRL,\n",
    "    DRL_MCTS\n",
    ")\n",
    "\n",
    "# Learning agents list for instance creation\n",
    "ql = QL(\n",
    "    small3x4_mode=True\n",
    ")\n",
    "\n",
    "# ql_mcts = QL_MCTS(\n",
    "\n",
    "# )\n",
    "# drl = DRL(\n",
    "\n",
    "# )\n",
    "# drl_mcts = DRL_MCTS(\n",
    "\n",
    "# )"
   ]
  },
  {
   "cell_type": "markdown",
   "metadata": {},
   "source": [
    "# Train the agent\n",
    "> You can load table or model first from the local or HuggingFace by other code block before training or testing battle."
   ]
  },
  {
   "cell_type": "code",
   "execution_count": null,
   "metadata": {},
   "outputs": [],
   "source": [
    "ql.train(\n",
    "    play_epochs=2000\n",
    ")\n",
    "# ql_mcts.train()\n",
    "# drl.train()\n",
    "# drl_mcts.train()"
   ]
  },
  {
   "cell_type": "code",
   "execution_count": null,
   "metadata": {},
   "outputs": [],
   "source": [
    "from brain.arena import Battle\n",
    "from brain.agent import (\n",
    "    Human,\n",
    "    Random,\n",
    "    MinMax,\n",
    "    AlphaBeta\n",
    ")\n",
    "ql.epsilon = 1.0\n",
    "battle = Battle(\n",
    "    player1=Random(),\n",
    "    player2=ql,\n",
    "    verbose=True,\n",
    "    small3x4_mode=True\n",
    ")\n",
    "battle.play_games()"
   ]
  },
  {
   "cell_type": "markdown",
   "metadata": {},
   "source": [
    "# Plot training results"
   ]
  },
  {
   "cell_type": "code",
   "execution_count": null,
   "metadata": {},
   "outputs": [],
   "source": [
    "ql.plot()\n",
    "ql_mcts.plot()\n",
    "drl.plot()\n",
    "drl_mcts.plot()"
   ]
  },
  {
   "cell_type": "markdown",
   "metadata": {},
   "source": [
    "# Lode the Table / Model from Local"
   ]
  },
  {
   "cell_type": "code",
   "execution_count": null,
   "metadata": {},
   "outputs": [],
   "source": [
    "# Q Learning load the table\n",
    "ql.load_from_local(\"QL.npz\")\n",
    "ql_mcts.load_from_local(\"QL-MCTS.npz\")\n",
    "\n",
    "# Deep Learning load the model\n",
    "drl.load_from_local(\"DRL.h5\")\n",
    "drl_mcts.load_from_local(\"DRL-MCTS.h5\")"
   ]
  },
  {
   "cell_type": "markdown",
   "metadata": {},
   "source": [
    "# Save the Table / Model to Local"
   ]
  },
  {
   "cell_type": "code",
   "execution_count": null,
   "metadata": {},
   "outputs": [],
   "source": [
    "ql.save_to_hub(\"ryanlinjui/darkchess-robot-brain-QL\")\n",
    "ql_mcts.save_to_hub(\"ryanlinjui/darkchess-robot-brain-QL-MCTS\")\n",
    "drl.save_hub(\"ryanlinjui/darkchess-robot-brain-DRL\")\n",
    "drl_mcts.save_hub(\"ryanlinjui/darkchess-robot-brain-DRL-MCTS\")"
   ]
  },
  {
   "cell_type": "markdown",
   "metadata": {},
   "source": [
    "# Load the Table / Model from HuggingFace"
   ]
  },
  {
   "cell_type": "code",
   "execution_count": null,
   "metadata": {},
   "outputs": [],
   "source": [
    "ql.load_from_hub(\"ryanlinjui/darkchess-robot-brain-QL\")\n",
    "ql_mcts.load_from_hub(\"ryanlinjui/darkchess-robot-brain-QL-MCTS\")\n",
    "drl.load_from_hub(\"ryanlinjui/darkchess-robot-brain-DRL\")\n",
    "drl_mcts.load_from_hub(\"ryanlinjui/darkchess-robot-brain-DRL-MCTS\")"
   ]
  },
  {
   "cell_type": "markdown",
   "metadata": {},
   "source": [
    "# Save the Table / Model to HuggingFace"
   ]
  },
  {
   "cell_type": "code",
   "execution_count": null,
   "metadata": {},
   "outputs": [],
   "source": [
    "ql.save_to_hub(\"ryanlinjui/darkchess-robot-brain-QL\")\n",
    "ql_mcts.save_to_hub(\"ryanlinjui/darkchess-robot-brain-QL-MCTS\")\n",
    "drl.save_hub(\"ryanlinjui/darkchess-robot-brain-DRL\")\n",
    "drl_mcts.save_hub(\"ryanlinjui/darkchess-robot-brain-DRL-MCTS\")"
   ]
  }
 ],
 "metadata": {
  "kernelspec": {
   "display_name": "default",
   "language": "python",
   "name": "python3"
  },
  "language_info": {
   "codemirror_mode": {
    "name": "ipython",
    "version": 3
   },
   "file_extension": ".py",
   "mimetype": "text/x-python",
   "name": "python",
   "nbconvert_exporter": "python",
   "pygments_lexer": "ipython3",
   "version": "3.8.20"
  }
 },
 "nbformat": 4,
 "nbformat_minor": 2
}
