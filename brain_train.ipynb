{
 "cells": [
  {
   "cell_type": "markdown",
   "metadata": {},
   "source": [
    "# Darkchess Brain AI Playground\n",
    "> Choose two agents from the list below.  \n",
    "> e.g. Human(you) v.s. AlphaBeta(CPU)"
   ]
  },
  {
   "cell_type": "code",
   "execution_count": null,
   "metadata": {},
   "outputs": [],
   "source": [
    "from brain.arena import Battle\n",
    "from brain.agent import (\n",
    "    Human,\n",
    "    Random,\n",
    "    MinMax,\n",
    "    AlphaBeta\n",
    ")\n",
    "\n",
    "battle = Battle(\n",
    "    player1=Human(),\n",
    "    player2=AlphaBeta(depth=4),\n",
    "    verbose=True\n",
    ")\n",
    "\n",
    "# Start the battle\n",
    "battle.play_games()"
   ]
  },
  {
   "cell_type": "markdown",
   "metadata": {},
   "source": [
    "# Login to HuggingFace (just login once)"
   ]
  },
  {
   "cell_type": "code",
   "execution_count": null,
   "metadata": {},
   "outputs": [],
   "source": [
    "from huggingface_hub import interpreter_login\n",
    "interpreter_login()"
   ]
  },
  {
   "cell_type": "markdown",
   "metadata": {},
   "source": [
    "# Train the agent\n",
    "> You can load table or model first from the local or HuggingFace by other code block before training or testing battle.\n",
    "- Learning Agent List for training\n",
    "- Plot training results"
   ]
  },
  {
   "cell_type": "markdown",
   "metadata": {},
   "source": [
    "# Q-Learning training (small 3x4 board)"
   ]
  },
  {
   "cell_type": "code",
   "execution_count": null,
   "metadata": {},
   "outputs": [],
   "source": [
    "from brain.agent import QL, Random, AlphaBeta\n",
    "\n",
    "ql = QL(small3x4_mode=True)\n",
    "ql.train(\n",
    "    iterations=10000,\n",
    "    epochs=10000,\n",
    "    evaluate_epochs=20,\n",
    "    evaluate_agents=[Random(), AlphaBeta(1), AlphaBeta(2), AlphaBeta(4), AlphaBeta(6)],\n",
    "    evaluate_interval=1000,\n",
    "    save_interval=50,\n",
    "    ignore_draw=True,\n",
    "    hub_model_id=\"ryanlinjui/darkchess-robot-brain-QL-small3x4\"\n",
    ")\n",
    "# ql.plot()"
   ]
  },
  {
   "cell_type": "code",
   "execution_count": null,
   "metadata": {},
   "outputs": [],
   "source": [
    "from brain.agent import QL, Random, AlphaBeta\n",
    "\n",
    "ql = QL(small3x4_mode=True)\n",
    "ql.load_from_hub(repo_id=\"ryanlinjui/darkchess-robot-brain-QL-small3x4\")"
   ]
  },
  {
   "cell_type": "code",
   "execution_count": null,
   "metadata": {},
   "outputs": [],
   "source": [
    "ql.evaluate(\n",
    "    evaluate_agents=[Random(), AlphaBeta(1), AlphaBeta(2), AlphaBeta(4), AlphaBeta(6)],\n",
    "    evaluate_epochs=5,\n",
    "    ignore_draw=True\n",
    ")"
   ]
  },
  {
   "cell_type": "code",
   "execution_count": null,
   "metadata": {},
   "outputs": [],
   "source": [
    "from brain.arena import Battle\n",
    "from brain.agent import (\n",
    "    Human,\n",
    "    Random,\n",
    "    MinMax,\n",
    "    AlphaBeta\n",
    ")\n",
    "\n",
    "battle = Battle(\n",
    "    player1=ql,\n",
    "    player2=MinMax(1),\n",
    "    verbose=True,\n",
    "    small3x4_mode=True\n",
    ")\n",
    "battle.play_games()"
   ]
  },
  {
   "cell_type": "code",
   "execution_count": null,
   "metadata": {},
   "outputs": [],
   "source": [
    "import numpy as np\n",
    "non_zero_entries = {\n",
    "    state: q_values\n",
    "    for state, q_values in ql.q_table.items()\n",
    "    if np.any(q_values != 0.0)\n",
    "}"
   ]
  },
  {
   "cell_type": "code",
   "execution_count": null,
   "metadata": {},
   "outputs": [],
   "source": [
    "from config import CHESS\n",
    "\n",
    "for state, data in non_zero_entries.items():\n",
    "    for i in range(len(data)):\n",
    "        if data[i] != 0:\n",
    "            print(ql.idx2action[i], data[i])\n",
    "    for i in range(len(state)):\n",
    "        print(CHESS[state[i]][\"display\"], end=\" \")\n",
    "        if (i + 1) % 3 == 0:\n",
    "            print()"
   ]
  },
  {
   "cell_type": "code",
   "execution_count": null,
   "metadata": {},
   "outputs": [],
   "source": [
    "len(non_zero_entries)\n",
    "# count = sum(\n",
    "#     1\n",
    "#     for q_values in ql.q_table.values()\n",
    "#     if not np.allclose(q_values, 0.0)\n",
    "# )"
   ]
  }
 ],
 "metadata": {
  "kernelspec": {
   "display_name": "default",
   "language": "python",
   "name": "python3"
  },
  "language_info": {
   "codemirror_mode": {
    "name": "ipython",
    "version": 3
   },
   "file_extension": ".py",
   "mimetype": "text/x-python",
   "name": "python",
   "nbconvert_exporter": "python",
   "pygments_lexer": "ipython3",
   "version": "3.8.20"
  }
 },
 "nbformat": 4,
 "nbformat_minor": 2
}
