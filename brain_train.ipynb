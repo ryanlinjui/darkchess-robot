{
 "cells": [
  {
   "cell_type": "markdown",
   "metadata": {},
   "source": [
    "# Darkchess Brain AI Playground\n",
    "> Choose two agents from the list below.  \n",
    "> e.g. Human(you) v.s. AlphaBeta(CPU)"
   ]
  },
  {
   "cell_type": "code",
   "execution_count": null,
   "metadata": {},
   "outputs": [],
   "source": [
    "from brain.arena import Battle\n",
    "from brain.agent import (\n",
    "    Human,\n",
    "    Random,\n",
    "    MinMax,\n",
    "    AlphaBeta\n",
    ")\n",
    "\n",
    "battle = Battle(\n",
    "    player1=Human(),\n",
    "    player2=AlphaBeta(depth=4),\n",
    "    verbose=True\n",
    ")\n",
    "\n",
    "# Start the battle\n",
    "battle.play_games()"
   ]
  },
  {
   "cell_type": "markdown",
   "metadata": {},
   "source": [
    "# Login to HuggingFace (just login once)"
   ]
  },
  {
   "cell_type": "code",
   "execution_count": null,
   "metadata": {},
   "outputs": [],
   "source": [
    "from huggingface_hub import interpreter_login\n",
    "interpreter_login()"
   ]
  },
  {
   "cell_type": "markdown",
   "metadata": {},
   "source": [
    "# Train the agent\n",
    "> You can load table or model first from the local or HuggingFace by other code block before training or testing battle.\n",
    "- Learning Agent List for training\n",
    "- Plot training results"
   ]
  },
  {
   "cell_type": "markdown",
   "metadata": {},
   "source": [
    "# Q-Learning training (small 3x4 board)"
   ]
  },
  {
   "cell_type": "code",
   "execution_count": null,
   "metadata": {},
   "outputs": [
    {
     "name": "stderr",
     "output_type": "stream",
     "text": [
      "/Users/ryanlinjui/Desktop/Projects/darkchess-robot/.pixi/envs/default/lib/python3.8/site-packages/tqdm/auto.py:21: TqdmWarning: IProgress not found. Please update jupyter and ipywidgets. See https://ipywidgets.readthedocs.io/en/stable/user_install.html\n",
      "  from .autonotebook import tqdm as notebook_tqdm\n"
     ]
    },
    {
     "name": "stdout",
     "output_type": "stream",
     "text": [
      "Iteration 1/10000\n"
     ]
    },
    {
     "name": "stderr",
     "output_type": "stream",
     "text": [
      "Training epochs playing against itself: 100%|██████████| 10000/10000 [00:14<00:00, 691.95it/s]\n",
      "Updating Q-table: 100%|██████████| 10000/10000 [00:02<00:00, 4219.80it/s]\n",
      "q-table.npz: 100%|██████████| 3.89M/3.89M [00:01<00:00, 2.47MB/s]\n"
     ]
    },
    {
     "name": "stdout",
     "output_type": "stream",
     "text": [
      "Iteration 2/10000\n"
     ]
    },
    {
     "name": "stderr",
     "output_type": "stream",
     "text": [
      "Training epochs playing against itself: 100%|██████████| 10000/10000 [00:14<00:00, 711.94it/s]\n",
      "Updating Q-table: 100%|██████████| 10000/10000 [00:02<00:00, 4242.34it/s]\n",
      "q-table.npz: 100%|██████████| 7.67M/7.67M [00:02<00:00, 3.44MB/s]\n"
     ]
    },
    {
     "name": "stdout",
     "output_type": "stream",
     "text": [
      "Iteration 3/10000\n"
     ]
    },
    {
     "name": "stderr",
     "output_type": "stream",
     "text": [
      "Training epochs playing against itself: 100%|██████████| 10000/10000 [00:14<00:00, 700.91it/s]\n",
      "Updating Q-table: 100%|██████████| 10000/10000 [00:02<00:00, 4182.45it/s]\n",
      "q-table.npz: 100%|██████████| 11.4M/11.4M [00:02<00:00, 4.20MB/s]\n"
     ]
    },
    {
     "name": "stdout",
     "output_type": "stream",
     "text": [
      "Iteration 4/10000\n"
     ]
    },
    {
     "name": "stderr",
     "output_type": "stream",
     "text": [
      "Training epochs playing against itself: 100%|██████████| 10000/10000 [00:14<00:00, 680.95it/s]\n",
      "Updating Q-table: 100%|██████████| 10000/10000 [00:02<00:00, 4210.58it/s]\n",
      "q-table.npz: 100%|██████████| 15.2M/15.2M [00:03<00:00, 4.34MB/s]\n"
     ]
    },
    {
     "name": "stdout",
     "output_type": "stream",
     "text": [
      "Iteration 5/10000\n"
     ]
    },
    {
     "name": "stderr",
     "output_type": "stream",
     "text": [
      "Training epochs playing against itself: 100%|██████████| 10000/10000 [00:14<00:00, 691.53it/s]\n",
      "Updating Q-table: 100%|██████████| 10000/10000 [00:02<00:00, 4322.04it/s]\n",
      "q-table.npz: 100%|██████████| 18.9M/18.9M [00:04<00:00, 3.93MB/s]\n"
     ]
    },
    {
     "name": "stdout",
     "output_type": "stream",
     "text": [
      "Iteration 6/10000\n"
     ]
    },
    {
     "name": "stderr",
     "output_type": "stream",
     "text": [
      "Training epochs playing against itself: 100%|██████████| 10000/10000 [00:14<00:00, 677.86it/s]\n",
      "Updating Q-table: 100%|██████████| 10000/10000 [00:02<00:00, 4291.04it/s]\n",
      "q-table.npz: 100%|██████████| 22.6M/22.6M [00:05<00:00, 4.42MB/s]\n"
     ]
    },
    {
     "name": "stdout",
     "output_type": "stream",
     "text": [
      "Iteration 7/10000\n"
     ]
    },
    {
     "name": "stderr",
     "output_type": "stream",
     "text": [
      "Training epochs playing against itself: 100%|██████████| 10000/10000 [00:14<00:00, 674.85it/s]\n",
      "Updating Q-table: 100%|██████████| 10000/10000 [00:02<00:00, 4256.94it/s]\n",
      "q-table.npz: 100%|██████████| 26.3M/26.3M [00:05<00:00, 4.67MB/s]\n"
     ]
    },
    {
     "name": "stdout",
     "output_type": "stream",
     "text": [
      "Iteration 8/10000\n"
     ]
    },
    {
     "name": "stderr",
     "output_type": "stream",
     "text": [
      "Training epochs playing against itself: 100%|██████████| 10000/10000 [00:15<00:00, 663.74it/s]\n",
      "Updating Q-table: 100%|██████████| 10000/10000 [00:02<00:00, 4068.51it/s]\n",
      "q-table.npz: 100%|██████████| 30.0M/30.0M [00:06<00:00, 4.58MB/s]\n"
     ]
    },
    {
     "name": "stdout",
     "output_type": "stream",
     "text": [
      "Iteration 9/10000\n"
     ]
    },
    {
     "name": "stderr",
     "output_type": "stream",
     "text": [
      "Training epochs playing against itself: 100%|██████████| 10000/10000 [00:15<00:00, 634.82it/s]\n",
      "Updating Q-table: 100%|██████████| 10000/10000 [00:02<00:00, 3937.30it/s]\n",
      "q-table.npz: 100%|██████████| 33.7M/33.7M [00:06<00:00, 4.84MB/s]\n"
     ]
    },
    {
     "name": "stdout",
     "output_type": "stream",
     "text": [
      "Iteration 10/10000\n"
     ]
    },
    {
     "name": "stderr",
     "output_type": "stream",
     "text": [
      "Training epochs playing against itself: 100%|██████████| 10000/10000 [00:15<00:00, 656.45it/s]\n",
      "Updating Q-table: 100%|██████████| 10000/10000 [00:02<00:00, 4149.37it/s]\n"
     ]
    }
   ],
   "source": [
    "from brain.agent import QL, Random, AlphaBeta\n",
    "\n",
    "ql = QL(small3x4_mode=True)\n",
    "ql.train(\n",
    "    iterations=10000,\n",
    "    epochs=10000,\n",
    "    evaluate_epochs=20,\n",
    "    evaluate_agents=[Random(), AlphaBeta(1), AlphaBeta(2), AlphaBeta(4), AlphaBeta(6)],\n",
    "    evaluate_interval=1000,\n",
    "    ignore_draw=True,\n",
    "    hub_model_id=\"ryanlinjui/darkchess-robot-brain-QL-small3x4\"\n",
    ")\n",
    "# ql.plot()"
   ]
  },
  {
   "cell_type": "code",
   "execution_count": null,
   "metadata": {},
   "outputs": [],
   "source": [
    "from brain.agent import QL, Random, AlphaBeta\n",
    "\n",
    "ql = QL(small3x4_mode=True)\n",
    "ql.load_from_hub(repo_id=\"ryanlinjui/darkchess-robot-brain-QL-small3x4\")"
   ]
  },
  {
   "cell_type": "code",
   "execution_count": null,
   "metadata": {},
   "outputs": [],
   "source": [
    "ql.evaluate(\n",
    "    evaluate_agents=[Random(), AlphaBeta(1), AlphaBeta(2), AlphaBeta(4), AlphaBeta(6)],\n",
    "    evaluate_epochs=5,\n",
    "    ignore_draw=True\n",
    ")"
   ]
  },
  {
   "cell_type": "code",
   "execution_count": null,
   "metadata": {},
   "outputs": [],
   "source": [
    "from brain.agent import QL, Random, AlphaBeta\n",
    "ql = QL(small3x4_mode=True)\n",
    "ql.load_from_local(path=\"tmp.npz\")"
   ]
  },
  {
   "cell_type": "code",
   "execution_count": null,
   "metadata": {},
   "outputs": [],
   "source": [
    "ql.save_to_local(\"tmp.npz\")"
   ]
  },
  {
   "cell_type": "code",
   "execution_count": null,
   "metadata": {},
   "outputs": [],
   "source": [
    "from brain.arena import Battle\n",
    "from brain.agent import (\n",
    "    Human,\n",
    "    Random,\n",
    "    MinMax,\n",
    "    AlphaBeta\n",
    ")\n",
    "\n",
    "battle = Battle(\n",
    "    player1=ql,\n",
    "    player2=Random(),\n",
    "    verbose=True,\n",
    "    small3x4_mode=True\n",
    ")\n",
    "battle.play_games()"
   ]
  },
  {
   "cell_type": "code",
   "execution_count": null,
   "metadata": {},
   "outputs": [],
   "source": [
    "ql.save_to_local(\"tmp.npz\")"
   ]
  },
  {
   "cell_type": "code",
   "execution_count": null,
   "metadata": {},
   "outputs": [],
   "source": [
    "\n",
    "import numpy as np\n",
    "non_zero_entries = {\n",
    "    state: q_values\n",
    "    for state, q_values in ql.q_table.items()\n",
    "    if np.any(q_values != 0.0)\n",
    "}"
   ]
  },
  {
   "cell_type": "code",
   "execution_count": null,
   "metadata": {},
   "outputs": [],
   "source": [
    "count = sum(\n",
    "    1\n",
    "    for q_values in ql.q_table.values()\n",
    "    if not np.allclose(q_values, 0.0)\n",
    ")"
   ]
  },
  {
   "cell_type": "code",
   "execution_count": null,
   "metadata": {},
   "outputs": [],
   "source": [
    "non_zero_entries"
   ]
  },
  {
   "cell_type": "code",
   "execution_count": null,
   "metadata": {},
   "outputs": [],
   "source": [
    "count\n"
   ]
  }
 ],
 "metadata": {
  "kernelspec": {
   "display_name": "default",
   "language": "python",
   "name": "python3"
  },
  "language_info": {
   "codemirror_mode": {
    "name": "ipython",
    "version": 3
   },
   "file_extension": ".py",
   "mimetype": "text/x-python",
   "name": "python",
   "nbconvert_exporter": "python",
   "pygments_lexer": "ipython3",
   "version": "3.8.20"
  }
 },
 "nbformat": 4,
 "nbformat_minor": 2
}
