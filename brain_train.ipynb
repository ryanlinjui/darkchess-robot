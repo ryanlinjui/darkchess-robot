{
 "cells": [
  {
   "cell_type": "markdown",
   "metadata": {},
   "source": [
    "# Darkchess Brain AI Playground"
   ]
  },
  {
   "cell_type": "code",
   "execution_count": 1,
   "metadata": {},
   "outputs": [
    {
     "name": "stdout",
     "output_type": "stream",
     "text": [
      "========================================\n",
      "Drawstep: 0\n",
      "Turn: Human (UNKNOWN)\n",
      "========================================\n",
      "| 圞 | 圞 | 圞 | 圞 | 圞 | 圞 | 圞 | 圞 |\n",
      "| 圞 | 圞 | 圞 | 圞 | 圞 | 圞 | 圞 | 圞 |\n",
      "| 圞 | 圞 | 圞 | 圞 | 圞 | 圞 | 圞 | 圞 |\n",
      "| 圞 | 圞 | 圞 | 圞 | 圞 | 圞 | 圞 | 圞 |\n",
      "========================================\n",
      "Action: (0, 0)\n",
      "\n",
      "========================================\n",
      "Drawstep: 0\n",
      "Turn: Random (UNKNOWN)\n",
      "========================================\n",
      "| 俥 | 圞 | 圞 | 圞 | 圞 | 圞 | 圞 | 圞 |\n",
      "| 圞 | 圞 | 圞 | 圞 | 圞 | 圞 | 圞 | 圞 |\n",
      "| 圞 | 圞 | 圞 | 圞 | 圞 | 圞 | 圞 | 圞 |\n",
      "| 圞 | 圞 | 圞 | 圞 | 圞 | 圞 | 圞 | 圞 |\n",
      "========================================\n",
      "Action: (13, 13)\n",
      "\n",
      "========================================\n",
      "Drawstep: 0\n",
      "Turn: Human (UNKNOWN)\n",
      "========================================\n",
      "| 俥 | 圞 | 圞 | 圞 | 圞 | 圞 | 圞 | 圞 |\n",
      "| 圞 | 圞 | 圞 | 圞 | 圞 | 帥 | 圞 | 圞 |\n",
      "| 圞 | 圞 | 圞 | 圞 | 圞 | 圞 | 圞 | 圞 |\n",
      "| 圞 | 圞 | 圞 | 圞 | 圞 | 圞 | 圞 | 圞 |\n",
      "========================================\n",
      "Action: Invalid Action\n",
      "(1, 1)\n",
      "\n",
      "========================================\n",
      "Drawstep: 0\n",
      "Turn: Random (UNKNOWN)\n",
      "========================================\n",
      "| 俥 | 包 | 圞 | 圞 | 圞 | 圞 | 圞 | 圞 |\n",
      "| 圞 | 圞 | 圞 | 圞 | 圞 | 帥 | 圞 | 圞 |\n",
      "| 圞 | 圞 | 圞 | 圞 | 圞 | 圞 | 圞 | 圞 |\n",
      "| 圞 | 圞 | 圞 | 圞 | 圞 | 圞 | 圞 | 圞 |\n",
      "========================================\n",
      "Action: (6, 6)\n",
      "\n",
      "========================================\n",
      "Drawstep: 0\n",
      "Turn: Human (UNKNOWN)\n",
      "========================================\n",
      "| 俥 | 包 | 圞 | 圞 | 圞 | 圞 | 馬 | 圞 |\n",
      "| 圞 | 圞 | 圞 | 圞 | 圞 | 帥 | 圞 | 圞 |\n",
      "| 圞 | 圞 | 圞 | 圞 | 圞 | 圞 | 圞 | 圞 |\n",
      "| 圞 | 圞 | 圞 | 圞 | 圞 | 圞 | 圞 | 圞 |\n",
      "========================================\n",
      "Action: "
     ]
    },
    {
     "ename": "ValueError",
     "evalue": "not enough values to unpack (expected 2, got 1)",
     "output_type": "error",
     "traceback": [
      "\u001b[0;31m---------------------------------------------------------------------------\u001b[0m",
      "\u001b[0;31mValueError\u001b[0m                                Traceback (most recent call last)",
      "Cell \u001b[0;32mIn[1], line 13\u001b[0m\n\u001b[1;32m      2\u001b[0m \u001b[38;5;28;01mfrom\u001b[39;00m \u001b[38;5;21;01mbrain\u001b[39;00m\u001b[38;5;21;01m.\u001b[39;00m\u001b[38;5;21;01magent\u001b[39;00m \u001b[38;5;28;01mimport\u001b[39;00m (\n\u001b[1;32m      3\u001b[0m     Human,\n\u001b[1;32m      4\u001b[0m     Random\n\u001b[1;32m      5\u001b[0m )\n\u001b[1;32m      7\u001b[0m battle \u001b[38;5;241m=\u001b[39m Battle(\n\u001b[1;32m      8\u001b[0m     player1\u001b[38;5;241m=\u001b[39mHuman(),\n\u001b[1;32m      9\u001b[0m     player2\u001b[38;5;241m=\u001b[39mRandom(),\n\u001b[1;32m     10\u001b[0m     verbose\u001b[38;5;241m=\u001b[39m\u001b[38;5;28;01mTrue\u001b[39;00m\n\u001b[1;32m     11\u001b[0m )\n\u001b[0;32m---> 13\u001b[0m \u001b[43mbattle\u001b[49m\u001b[38;5;241;43m.\u001b[39;49m\u001b[43mplay_games\u001b[49m\u001b[43m(\u001b[49m\u001b[43m)\u001b[49m\n",
      "File \u001b[0;32m~/Desktop/Projects/darkchess-robot/brain/arena.py:120\u001b[0m, in \u001b[0;36mBattle.play_games\u001b[0;34m(self)\u001b[0m\n\u001b[1;32m    117\u001b[0m     \u001b[38;5;28mself\u001b[39m\u001b[38;5;241m.\u001b[39mshow_board()\n\u001b[1;32m    119\u001b[0m \u001b[38;5;28mself\u001b[39m\u001b[38;5;241m.\u001b[39mgame_record\u001b[38;5;241m.\u001b[39mboard\u001b[38;5;241m.\u001b[39mappend(\u001b[38;5;28mself\u001b[39m\u001b[38;5;241m.\u001b[39mboard)\n\u001b[0;32m--> 120\u001b[0m \u001b[38;5;28;01mif\u001b[39;00m \u001b[38;5;28;43mself\u001b[39;49m\u001b[38;5;241;43m.\u001b[39;49m\u001b[43mboard_update\u001b[49m\u001b[43m(\u001b[49m\u001b[43m)\u001b[49m:\n\u001b[1;32m    121\u001b[0m     \u001b[38;5;28;01mbreak\u001b[39;00m\n",
      "File \u001b[0;32m~/Desktop/Projects/darkchess-robot/brain/arena.py:68\u001b[0m, in \u001b[0;36mBattle.board_update\u001b[0;34m(self)\u001b[0m\n\u001b[1;32m     65\u001b[0m     \u001b[38;5;28mprint\u001b[39m(\u001b[38;5;124mf\u001b[39m\u001b[38;5;124m\"\u001b[39m\u001b[38;5;124mAction: \u001b[39m\u001b[38;5;124m\"\u001b[39m, end\u001b[38;5;241m=\u001b[39m\u001b[38;5;124m\"\u001b[39m\u001b[38;5;124m\"\u001b[39m)\n\u001b[1;32m     67\u001b[0m current_player \u001b[38;5;241m=\u001b[39m \u001b[38;5;28mself\u001b[39m\u001b[38;5;241m.\u001b[39mplayers[\u001b[38;5;28mself\u001b[39m\u001b[38;5;241m.\u001b[39mturn]\n\u001b[0;32m---> 68\u001b[0m action \u001b[38;5;241m=\u001b[39m \u001b[43mcurrent_player\u001b[49m\u001b[38;5;241;43m.\u001b[39;49m\u001b[43maction\u001b[49m\u001b[43m(\u001b[49m\u001b[38;5;28;43mself\u001b[39;49m\u001b[38;5;241;43m.\u001b[39;49m\u001b[43mboard\u001b[49m\u001b[43m)\u001b[49m\n\u001b[1;32m     69\u001b[0m \u001b[38;5;28;01mif\u001b[39;00m action \u001b[38;5;129;01mis\u001b[39;00m \u001b[38;5;28;01mNone\u001b[39;00m:\n\u001b[1;32m     70\u001b[0m     \u001b[38;5;28;01mif\u001b[39;00m \u001b[38;5;28mself\u001b[39m\u001b[38;5;241m.\u001b[39mverbose:\n",
      "File \u001b[0;32m~/Desktop/Projects/darkchess-robot/brain/arena.py:129\u001b[0m, in \u001b[0;36mPlayer.action\u001b[0;34m(self, board)\u001b[0m\n\u001b[1;32m    128\u001b[0m \u001b[38;5;28;01mdef\u001b[39;00m \u001b[38;5;21maction\u001b[39m(\u001b[38;5;28mself\u001b[39m, board: List[\u001b[38;5;28mstr\u001b[39m]) \u001b[38;5;241m-\u001b[39m\u001b[38;5;241m>\u001b[39m Optional[Tuple[\u001b[38;5;28mint\u001b[39m, \u001b[38;5;28mint\u001b[39m]]:\n\u001b[0;32m--> 129\u001b[0m     \u001b[38;5;28;01mreturn\u001b[39;00m \u001b[38;5;28;43mself\u001b[39;49m\u001b[38;5;241;43m.\u001b[39;49m\u001b[43magent\u001b[49m\u001b[38;5;241;43m.\u001b[39;49m\u001b[43maction\u001b[49m\u001b[43m(\u001b[49m\u001b[43mboard\u001b[49m\u001b[43m,\u001b[49m\u001b[43m \u001b[49m\u001b[38;5;28;43mself\u001b[39;49m\u001b[38;5;241;43m.\u001b[39;49m\u001b[43mcolor\u001b[49m\u001b[43m)\u001b[49m\n",
      "File \u001b[0;32m~/Desktop/Projects/darkchess-robot/brain/agent/base.py:22\u001b[0m, in \u001b[0;36mBaseAgent.action\u001b[0;34m(self, board, color, eaten)\u001b[0m\n\u001b[1;32m     19\u001b[0m \u001b[38;5;28;01mif\u001b[39;00m \u001b[38;5;28mlen\u001b[39m(\u001b[38;5;28mself\u001b[39m\u001b[38;5;241m.\u001b[39mbase_availablesteps) \u001b[38;5;241m==\u001b[39m \u001b[38;5;241m0\u001b[39m:\n\u001b[1;32m     20\u001b[0m     \u001b[38;5;28;01mreturn\u001b[39;00m \u001b[38;5;28;01mNone\u001b[39;00m\n\u001b[0;32m---> 22\u001b[0m \u001b[38;5;28;01mreturn\u001b[39;00m \u001b[38;5;28;43mself\u001b[39;49m\u001b[38;5;241;43m.\u001b[39;49m\u001b[43m_action\u001b[49m\u001b[43m(\u001b[49m\u001b[43m)\u001b[49m\n",
      "File \u001b[0;32m~/Desktop/Projects/darkchess-robot/brain/agent/agent.py:15\u001b[0m, in \u001b[0;36mHuman._action\u001b[0;34m(self)\u001b[0m\n\u001b[1;32m     13\u001b[0m \u001b[38;5;28;01mdef\u001b[39;00m \u001b[38;5;21m_action\u001b[39m(\u001b[38;5;28mself\u001b[39m) \u001b[38;5;241m-\u001b[39m\u001b[38;5;241m>\u001b[39m Tuple[\u001b[38;5;28mint\u001b[39m, \u001b[38;5;28mint\u001b[39m]:\n\u001b[1;32m     14\u001b[0m     \u001b[38;5;28;01mwhile\u001b[39;00m \u001b[38;5;28;01mTrue\u001b[39;00m:\n\u001b[0;32m---> 15\u001b[0m         from_pos, to_pos \u001b[38;5;241m=\u001b[39m \u001b[38;5;28minput\u001b[39m()\u001b[38;5;241m.\u001b[39msplit(\u001b[38;5;124m'\u001b[39m\u001b[38;5;124m,\u001b[39m\u001b[38;5;124m'\u001b[39m)\n\u001b[1;32m     16\u001b[0m         action \u001b[38;5;241m=\u001b[39m (\u001b[38;5;28mint\u001b[39m(from_pos), \u001b[38;5;28mint\u001b[39m(to_pos))\n\u001b[1;32m     17\u001b[0m         \u001b[38;5;28;01mif\u001b[39;00m action \u001b[38;5;129;01mnot\u001b[39;00m \u001b[38;5;129;01min\u001b[39;00m \u001b[38;5;28mself\u001b[39m\u001b[38;5;241m.\u001b[39mbase_availablesteps:\n",
      "\u001b[0;31mValueError\u001b[0m: not enough values to unpack (expected 2, got 1)"
     ]
    }
   ],
   "source": [
    "from brain.arena import Battle\n",
    "from brain.agent import (\n",
    "    Human,\n",
    "    Random\n",
    ")\n",
    "\n",
    "battle = Battle(\n",
    "    player1=Human(),\n",
    "    player2=Random(),\n",
    "    verbose=True\n",
    ")\n",
    "\n",
    "battle.play_games()"
   ]
  },
  {
   "cell_type": "markdown",
   "metadata": {},
   "source": [
    "# Training QL (Q-Table) Agent"
   ]
  },
  {
   "cell_type": "code",
   "execution_count": null,
   "metadata": {},
   "outputs": [],
   "source": [
    "BOARD_MODE = \"8x4\"\n"
   ]
  },
  {
   "cell_type": "markdown",
   "metadata": {},
   "source": [
    "# Training QL (Q-Table) with MCTS Agent"
   ]
  },
  {
   "cell_type": "code",
   "execution_count": null,
   "metadata": {},
   "outputs": [],
   "source": [
    "BOARD_MODE = \"8x4\"\n"
   ]
  },
  {
   "cell_type": "markdown",
   "metadata": {},
   "source": [
    "# Training Deep Reinforcement Learning (DRL) Agent"
   ]
  },
  {
   "cell_type": "code",
   "execution_count": null,
   "metadata": {},
   "outputs": [],
   "source": [
    "BOARD_MODE = \"8x4\"\n"
   ]
  }
 ],
 "metadata": {
  "kernelspec": {
   "display_name": "default",
   "language": "python",
   "name": "python3"
  },
  "language_info": {
   "codemirror_mode": {
    "name": "ipython",
    "version": 3
   },
   "file_extension": ".py",
   "mimetype": "text/x-python",
   "name": "python",
   "nbconvert_exporter": "python",
   "pygments_lexer": "ipython3",
   "version": "3.8.20"
  }
 },
 "nbformat": 4,
 "nbformat_minor": 2
}
